{
 "cells": [
  {
   "cell_type": "markdown",
   "id": "faff64f7",
   "metadata": {},
   "source": [
    "# Decision Tree Regression"
   ]
  },
  {
   "cell_type": "markdown",
   "id": "c1bb3a01",
   "metadata": {},
   "source": [
    "## Importing Libraries"
   ]
  },
  {
   "cell_type": "code",
   "execution_count": 1,
   "id": "351c8ea6",
   "metadata": {},
   "outputs": [],
   "source": [
    "import numpy as np\n",
    "import matplotlib.pyplot as plt\n",
    "import pandas as pd"
   ]
  },
  {
   "cell_type": "markdown",
   "id": "859b026a",
   "metadata": {},
   "source": [
    "## Importing the dataset"
   ]
  },
  {
   "cell_type": "code",
   "execution_count": 2,
   "id": "49774fec",
   "metadata": {},
   "outputs": [],
   "source": [
    "dataset = pd.read_csv('data.csv')\n",
    "x = dataset[['Salnty']].iloc[:1000,:].values\n",
    "y = dataset[['T_degC']].iloc[:1000,:].values"
   ]
  },
  {
   "cell_type": "markdown",
   "id": "87ffe7e4",
   "metadata": {},
   "source": [
    "## Taking care of missing data"
   ]
  },
  {
   "cell_type": "code",
   "execution_count": 3,
   "id": "2ae776c5",
   "metadata": {},
   "outputs": [],
   "source": [
    "from sklearn.impute import SimpleImputer\n",
    "x_imputer = SimpleImputer(missing_values=np.nan, strategy='mean')\n",
    "x = x_imputer.fit_transform(x)"
   ]
  },
  {
   "cell_type": "code",
   "execution_count": 4,
   "id": "5ad44411",
   "metadata": {},
   "outputs": [],
   "source": [
    "y_imputer = SimpleImputer(missing_values=np.nan, strategy='mean')\n",
    "y = y_imputer.fit_transform(y)"
   ]
  },
  {
   "cell_type": "markdown",
   "id": "875c778f",
   "metadata": {},
   "source": [
    "## Splitting the data into training and test sets"
   ]
  },
  {
   "cell_type": "code",
   "execution_count": 5,
   "id": "84154db4",
   "metadata": {},
   "outputs": [],
   "source": [
    "from sklearn.model_selection import train_test_split\n",
    "x_train, x_test, y_train, y_test = train_test_split(x, y, test_size=0.25, random_state=0)"
   ]
  },
  {
   "cell_type": "markdown",
   "id": "853706d2",
   "metadata": {},
   "source": [
    "## Training the model"
   ]
  },
  {
   "cell_type": "code",
   "execution_count": 6,
   "id": "b7a1e40b",
   "metadata": {},
   "outputs": [
    {
     "data": {
      "text/plain": [
       "DecisionTreeRegressor(random_state=0)"
      ]
     },
     "execution_count": 6,
     "metadata": {},
     "output_type": "execute_result"
    }
   ],
   "source": [
    "from sklearn.tree import DecisionTreeRegressor\n",
    "regressor = DecisionTreeRegressor(random_state=0)\n",
    "regressor.fit(x_train, y_train)"
   ]
  },
  {
   "cell_type": "markdown",
   "id": "30890ff2",
   "metadata": {},
   "source": [
    "## Testing the model"
   ]
  },
  {
   "cell_type": "code",
   "execution_count": 7,
   "id": "089cbd11",
   "metadata": {},
   "outputs": [
    {
     "name": "stdout",
     "output_type": "stream",
     "text": [
      "[[ 5.03        7.76      ]\n",
      " [12.84714286 13.57      ]\n",
      " [ 5.95        7.91      ]\n",
      " [10.64       12.5       ]\n",
      " [ 6.10285714  3.51      ]\n",
      " [ 4.31        4.3       ]\n",
      " [ 4.33        4.72      ]\n",
      " [10.855       9.83      ]\n",
      " [ 4.225       4.53      ]\n",
      " [10.4        12.46      ]\n",
      " [ 4.32666667  4.5       ]\n",
      " [12.26       12.19      ]\n",
      " [ 4.11        5.09      ]\n",
      " [ 7.61        5.13      ]\n",
      " [ 4.38        4.65      ]\n",
      " [ 3.46        3.99      ]\n",
      " [ 3.43        4.42      ]\n",
      " [ 3.65        3.88      ]\n",
      " [ 8.01        8.76      ]\n",
      " [ 8.25        7.58      ]\n",
      " [10.77        9.75      ]\n",
      " [ 9.18        9.21      ]\n",
      " [ 4.32666667  3.42      ]\n",
      " [11.45       11.5       ]\n",
      " [13.46       13.16      ]\n",
      " [ 4.8         4.19      ]\n",
      " [ 7.6         6.32      ]\n",
      " [ 9.79        9.02      ]\n",
      " [12.89875    13.6       ]\n",
      " [10.572      10.46      ]\n",
      " [ 4.225       3.41      ]\n",
      " [11.03333333 10.41      ]\n",
      " [12.65307692 13.94      ]\n",
      " [ 4.68        3.84      ]\n",
      " [10.26       11.3       ]\n",
      " [12.0875     13.13      ]\n",
      " [ 9.52666667  9.18      ]\n",
      " [ 5.86        5.2       ]\n",
      " [10.572      13.72      ]\n",
      " [ 6.415       6.68      ]\n",
      " [11.05        9.91      ]\n",
      " [ 7.12666667  6.58      ]\n",
      " [ 4.29333333  6.19      ]\n",
      " [ 6.10285714  5.7       ]\n",
      " [10.77       11.99      ]\n",
      " [ 4.38        5.49      ]\n",
      " [ 6.10285714  4.27      ]\n",
      " [ 6.77166667  6.94      ]\n",
      " [11.3825     11.52      ]\n",
      " [10.72       13.67      ]\n",
      " [ 6.02666667  7.55      ]\n",
      " [ 6.10285714  8.71      ]\n",
      " [ 7.85        8.31      ]\n",
      " [ 4.32666667  4.01      ]\n",
      " [ 8.58       13.48      ]\n",
      " [ 6.10285714  3.82      ]\n",
      " [ 5.05666667  4.37      ]\n",
      " [ 5.245       5.22      ]\n",
      " [10.21       12.31      ]\n",
      " [11.31       11.42      ]\n",
      " [ 8.055       8.12      ]\n",
      " [ 6.10285714  3.45      ]\n",
      " [ 8.43        6.54      ]\n",
      " [ 7.5         7.03      ]\n",
      " [11.735       9.88      ]\n",
      " [11.3325     11.77      ]\n",
      " [ 6.77166667  8.40865731]\n",
      " [12.65307692  9.92      ]\n",
      " [11.12       11.99      ]\n",
      " [ 6.02666667  5.14      ]\n",
      " [12.65307692 12.59      ]\n",
      " [ 7.0375      7.66      ]\n",
      " [11.925      11.4       ]\n",
      " [11.12       12.        ]\n",
      " [ 9.86        9.46      ]\n",
      " [11.5        10.88      ]\n",
      " [13.17        8.62      ]\n",
      " [11.89428571 12.88      ]\n",
      " [13.62        9.83      ]\n",
      " [11.63833333 10.89      ]\n",
      " [13.49        8.56      ]\n",
      " [ 6.64666667  6.62      ]\n",
      " [10.64       10.71      ]\n",
      " [12.0875     12.78      ]\n",
      " [ 6.10285714  3.83      ]\n",
      " [ 6.87        7.42      ]\n",
      " [ 5.93        7.1       ]\n",
      " [ 3.46        3.67      ]\n",
      " [ 4.32666667  4.48      ]\n",
      " [ 5.42333333  7.36      ]\n",
      " [ 6.7425      8.12      ]\n",
      " [ 4.59666667  5.38      ]\n",
      " [11.05       11.16      ]\n",
      " [11.59333333 11.7       ]\n",
      " [ 4.59666667  4.47      ]\n",
      " [ 7.02        8.19      ]\n",
      " [ 7.61        8.25      ]\n",
      " [ 8.05        7.71      ]\n",
      " [ 4.63        4.8       ]\n",
      " [ 6.10285714  3.36      ]\n",
      " [ 4.225       4.98      ]\n",
      " [ 7.41444444  7.87      ]\n",
      " [10.135       9.92      ]\n",
      " [ 3.51        5.68      ]\n",
      " [10.21333333 11.53      ]\n",
      " [ 3.85        5.59      ]\n",
      " [ 5.03        5.64      ]\n",
      " [ 4.06        3.9       ]\n",
      " [ 8.43        9.09      ]\n",
      " [ 5.82        3.11      ]\n",
      " [10.2        10.07      ]\n",
      " [ 6.10285714  3.57      ]\n",
      " [ 4.71        4.01      ]\n",
      " [11.708       8.40865731]\n",
      " [10.64       11.7       ]\n",
      " [11.495      10.97      ]\n",
      " [ 4.225       5.38      ]\n",
      " [10.85       11.48      ]\n",
      " [ 7.09416667  7.13      ]\n",
      " [ 5.95        7.84      ]\n",
      " [ 6.77166667  6.72      ]\n",
      " [ 3.42        5.25      ]\n",
      " [ 3.938       3.39      ]\n",
      " [12.125      13.61      ]\n",
      " [ 4.53333333  3.14      ]\n",
      " [ 6.69333333  6.73      ]\n",
      " [ 4.49        3.62      ]\n",
      " [11.708      11.58      ]\n",
      " [ 4.03        4.67      ]\n",
      " [ 6.99        6.08      ]\n",
      " [ 4.49        4.9       ]\n",
      " [ 5.54        9.56      ]\n",
      " [ 9.96       13.5       ]\n",
      " [ 9.96        9.03      ]\n",
      " [ 6.44        6.36      ]\n",
      " [12.0875     13.08      ]\n",
      " [11.708      11.5       ]\n",
      " [11.36125    10.06      ]\n",
      " [10.64       10.64      ]\n",
      " [ 4.225       6.63      ]\n",
      " [11.12        9.32      ]\n",
      " [12.65307692 13.6       ]\n",
      " [ 4.33        4.82      ]\n",
      " [10.77       12.        ]\n",
      " [ 4.49        3.2       ]\n",
      " [ 6.415       6.42      ]\n",
      " [ 9.2        11.4       ]\n",
      " [ 7.29        5.68      ]\n",
      " [ 4.21        4.08      ]\n",
      " [12.498       9.06      ]\n",
      " [ 4.38        4.73      ]\n",
      " [10.77        9.89      ]\n",
      " [ 3.98        3.89      ]\n",
      " [ 3.98        4.79      ]\n",
      " [ 3.42        3.32      ]\n",
      " [ 8.43        9.49      ]\n",
      " [ 6.54        6.56      ]\n",
      " [ 5.5         6.93      ]\n",
      " [12.84714286 13.52      ]\n",
      " [ 8.24        8.61      ]\n",
      " [ 4.722       4.22      ]\n",
      " [11.65333333 12.52      ]\n",
      " [10.21        9.22      ]\n",
      " [11.30333333 13.52      ]\n",
      " [ 6.7425      8.76      ]\n",
      " [11.18       11.47      ]\n",
      " [11.79       11.4       ]\n",
      " [ 3.938       3.71      ]\n",
      " [11.3825     11.23      ]\n",
      " [ 7.95        8.67      ]\n",
      " [12.125      13.61      ]\n",
      " [11.89428571 13.2       ]\n",
      " [ 5.09        5.3       ]\n",
      " [11.99       14.22      ]\n",
      " [ 4.11        6.11      ]\n",
      " [ 5.70333333  7.43      ]\n",
      " [ 7.78        4.67      ]\n",
      " [12.89875    12.8       ]\n",
      " [ 8.58       12.28      ]\n",
      " [ 7.19        5.77      ]\n",
      " [10.4        12.18      ]\n",
      " [ 4.722       5.6       ]\n",
      " [ 4.29333333  3.76      ]\n",
      " [11.52833333 11.5       ]\n",
      " [ 9.8475      9.67      ]\n",
      " [10.855      11.52      ]\n",
      " [ 7.28        8.13      ]\n",
      " [ 6.69333333  6.23      ]\n",
      " [13.55       10.02      ]\n",
      " [ 6.64666667  6.07      ]\n",
      " [ 8.92       10.77      ]\n",
      " [13.77       12.08      ]\n",
      " [ 3.85        3.54      ]\n",
      " [10.45       10.45      ]\n",
      " [10.572      11.44      ]\n",
      " [12.65307692 13.36      ]\n",
      " [ 5.5         6.35      ]\n",
      " [ 3.45        3.08      ]\n",
      " [11.62       11.59      ]\n",
      " [11.52833333 11.69      ]\n",
      " [12.025       9.72      ]\n",
      " [ 3.46        3.69      ]\n",
      " [ 7.78        6.93      ]\n",
      " [13.35       13.11      ]\n",
      " [ 3.66        4.57      ]\n",
      " [12.0875     13.38      ]\n",
      " [ 7.12666667  5.6       ]\n",
      " [ 4.722       6.18      ]\n",
      " [ 6.47333333  5.42      ]\n",
      " [ 4.53333333  4.35      ]\n",
      " [ 5.95        5.79      ]\n",
      " [11.03333333 14.        ]\n",
      " [12.56        8.83      ]\n",
      " [ 6.54        8.61      ]\n",
      " [ 6.77166667  8.55      ]\n",
      " [ 6.98        8.5       ]\n",
      " [11.36       11.18      ]\n",
      " [11.39       11.64      ]\n",
      " [ 8.32        7.85      ]\n",
      " [13.54       13.7       ]\n",
      " [ 7.98        8.84      ]\n",
      " [11.03333333 13.48      ]\n",
      " [ 3.45        6.38      ]\n",
      " [ 6.54        6.86      ]\n",
      " [ 3.66        3.18      ]\n",
      " [13.54        9.16      ]\n",
      " [ 5.95        8.        ]\n",
      " [11.495      11.8       ]\n",
      " [ 6.93        8.26      ]\n",
      " [ 7.38        5.71      ]\n",
      " [ 6.10285714 11.06      ]\n",
      " [ 4.49        3.94      ]\n",
      " [12.42       13.33      ]\n",
      " [10.52       13.29      ]\n",
      " [ 9.9825     10.05      ]\n",
      " [ 6.64666667  6.47      ]\n",
      " [10.35       13.19      ]\n",
      " [11.03333333 12.66      ]\n",
      " [ 3.45        7.67      ]\n",
      " [ 3.98        2.88      ]\n",
      " [ 8.53        8.49      ]\n",
      " [ 6.7425      8.57      ]\n",
      " [ 9.27        7.75      ]\n",
      " [ 6.69333333  5.87      ]\n",
      " [ 7.2075      8.66      ]\n",
      " [ 6.2         5.01      ]\n",
      " [13.77        9.19      ]\n",
      " [13.55       10.46      ]\n",
      " [ 8.28        9.89      ]\n",
      " [ 7.38        6.76      ]]\n"
     ]
    }
   ],
   "source": [
    "y_pred = regressor.predict(x_test).reshape(-1, 1)\n",
    "print(np.concatenate((y_pred, y_test), 1))"
   ]
  },
  {
   "cell_type": "markdown",
   "id": "4a1d9f7d",
   "metadata": {},
   "source": [
    "## Visualizing the results"
   ]
  },
  {
   "cell_type": "code",
   "execution_count": 8,
   "id": "3f41bf1a",
   "metadata": {},
   "outputs": [
    {
     "data": {
      "image/png": "[encoded data removed]",
      "text/plain": [
       "<Figure size 432x288 with 1 Axes>"
      ]
     },
     "metadata": {
      "needs_background": "light"
     },
     "output_type": "display_data"
    }
   ],
   "source": [
    "plt.scatter(x_train, y_train, color='red')\n",
    "plt.plot(x_train, regressor.predict(x_train), color='blue')\n",
    "plt.title('Salinity vs Temperature')\n",
    "plt.xlabel('Salinity')\n",
    "plt.ylabel('Temperature')\n",
    "plt.show()"
   ]
  },
  {
   "cell_type": "markdown",
   "id": "7b8b81c2",
   "metadata": {},
   "source": [
    "## Evaluating the model"
   ]
  },
  {
   "cell_type": "code",
   "execution_count": 9,
   "id": "b868816a",
   "metadata": {},
   "outputs": [
    {
     "data": {
      "text/plain": [
       "0.7594778965474795"
      ]
     },
     "execution_count": 9,
     "metadata": {},
     "output_type": "execute_result"
    }
   ],
   "source": [
    "from sklearn.metrics import r2_score\n",
    "r2_score(y_test, y_pred)"
   ]
  },
  {
   "cell_type": "code",
   "execution_count": null,
   "id": "25c86739-e0a3-4316-a650-4daead0d83e3",
   "metadata": {},
   "outputs": [],
   "source": []
  }
 ],
 "metadata": {
  "kernelspec": {
   "display_name": "Python 3 (ipykernel)",
   "language": "python",
   "name": "python3"
  },
  "language_info": {
   "codemirror_mode": {
    "name": "ipython",
    "version": 3
   },
   "file_extension": ".py",
   "mimetype": "text/x-python",
   "name": "python",
   "nbconvert_exporter": "python",
   "pygments_lexer": "ipython3",
   "version": "3.9.7"
  }
 },
 "nbformat": 4,
 "nbformat_minor": 5
}
