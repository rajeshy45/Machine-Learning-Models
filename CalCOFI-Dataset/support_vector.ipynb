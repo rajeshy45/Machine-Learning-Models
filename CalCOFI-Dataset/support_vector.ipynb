{
 "cells": [
  {
   "cell_type": "markdown",
   "id": "e944519a",
   "metadata": {},
   "source": [
    "# Support Vector Regression"
   ]
  },
  {
   "cell_type": "markdown",
   "id": "c1bb3a01",
   "metadata": {},
   "source": [
    "## Importing Libraries"
   ]
  },
  {
   "cell_type": "code",
   "execution_count": 1,
   "id": "351c8ea6",
   "metadata": {},
   "outputs": [],
   "source": [
    "import numpy as np\n",
    "import matplotlib.pyplot as plt\n",
    "import pandas as pd"
   ]
  },
  {
   "cell_type": "markdown",
   "id": "859b026a",
   "metadata": {},
   "source": [
    "## Importing the dataset"
   ]
  },
  {
   "cell_type": "code",
   "execution_count": 2,
   "id": "49774fec",
   "metadata": {},
   "outputs": [],
   "source": [
    "dataset = pd.read_csv('data.csv')\n",
    "x = dataset[['Salnty']].iloc[:1000,:].values\n",
    "y = dataset[['T_degC']].iloc[:1000,:].values"
   ]
  },
  {
   "cell_type": "markdown",
   "id": "87ffe7e4",
   "metadata": {},
   "source": [
    "## Taking care of missing data"
   ]
  },
  {
   "cell_type": "code",
   "execution_count": 3,
   "id": "2ae776c5",
   "metadata": {},
   "outputs": [],
   "source": [
    "from sklearn.impute import SimpleImputer\n",
    "x_imputer = SimpleImputer(missing_values=np.nan, strategy='mean')\n",
    "x = x_imputer.fit_transform(x)"
   ]
  },
  {
   "cell_type": "code",
   "execution_count": 4,
   "id": "5ad44411",
   "metadata": {},
   "outputs": [],
   "source": [
    "y_imputer = SimpleImputer(missing_values=np.nan, strategy='mean')\n",
    "y = y_imputer.fit_transform(y)"
   ]
  },
  {
   "cell_type": "markdown",
   "id": "875c778f",
   "metadata": {},
   "source": [
    "## Splitting the data into training and test sets"
   ]
  },
  {
   "cell_type": "code",
   "execution_count": 5,
   "id": "84154db4",
   "metadata": {},
   "outputs": [],
   "source": [
    "from sklearn.model_selection import train_test_split\n",
    "x_train, x_test, y_train, y_test = train_test_split(x, y, test_size=0.2, random_state=0)"
   ]
  },
  {
   "cell_type": "markdown",
   "id": "c47dbcef",
   "metadata": {},
   "source": [
    "## Feature scaling"
   ]
  },
  {
   "cell_type": "code",
   "execution_count": 6,
   "id": "2254b0b7",
   "metadata": {},
   "outputs": [],
   "source": [
    "from sklearn.preprocessing import StandardScaler\n",
    "sc_x = StandardScaler()\n",
    "x_train = sc_x.fit_transform(x_train)\n",
    "x_test = sc_x.transform(x_test)\n",
    "sc_y = StandardScaler()\n",
    "y_train = sc_y.fit_transform(y_train)\n",
    "y_test = sc_y.transform(y_test)"
   ]
  },
  {
   "cell_type": "markdown",
   "id": "853706d2",
   "metadata": {},
   "source": [
    "## Training the model"
   ]
  },
  {
   "cell_type": "code",
   "execution_count": 7,
   "id": "b7a1e40b",
   "metadata": {},
   "outputs": [
    {
     "name": "stderr",
     "output_type": "stream",
     "text": [
      "C:\\Users\\yrj04\\anaconda3\\lib\\site-packages\\sklearn\\utils\\validation.py:63: DataConversionWarning: A column-vector y was passed when a 1d array was expected. Please change the shape of y to (n_samples, ), for example using ravel().\n",
      "  return f(*args, **kwargs)\n"
     ]
    },
    {
     "data": {
      "text/plain": [
       "SVR()"
      ]
     },
     "execution_count": 7,
     "metadata": {},
     "output_type": "execute_result"
    }
   ],
   "source": [
    "from sklearn.svm import SVR\n",
    "regressor = SVR(kernel='rbf')\n",
    "regressor.fit(x_train, y_train)"
   ]
  },
  {
   "cell_type": "markdown",
   "id": "30890ff2",
   "metadata": {},
   "source": [
    "## Testing the model"
   ]
  },
  {
   "cell_type": "code",
   "execution_count": 8,
   "id": "089cbd11",
   "metadata": {},
   "outputs": [],
   "source": [
    "y_pred = sc_y.inverse_transform(regressor.predict(x_test).reshape(-1, 1))\n",
    "compare = np.concatenate((y_pred, sc_y.inverse_transform(y_test)), 1)"
   ]
  },
  {
   "cell_type": "code",
   "execution_count": 9,
   "id": "5bdfcd11",
   "metadata": {},
   "outputs": [
    {
     "name": "stdout",
     "output_type": "stream",
     "text": [
      "[[ 6.35767626  7.76      ]\n",
      " [10.30767075 13.57      ]\n",
      " [ 7.0209878   7.91      ]\n",
      " [11.75292604 12.5       ]\n",
      " [ 8.81152264  3.51      ]\n",
      " [ 3.89097878  4.3       ]\n",
      " [ 4.32375754  4.72      ]\n",
      " [11.8844397   9.83      ]\n",
      " [ 4.8174102   4.53      ]\n",
      " [12.30255862 12.46      ]\n",
      " [ 4.03365542  4.5       ]\n",
      " [12.08252905 12.19      ]\n",
      " [ 5.06873228  5.09      ]\n",
      " [ 7.17917122  5.13      ]\n",
      " [ 5.88448853  4.65      ]\n",
      " [ 3.90437838  3.99      ]\n",
      " [ 3.75058758  4.42      ]\n",
      " [ 4.16408061  3.88      ]\n",
      " [ 7.75919028  8.76      ]\n",
      " [ 7.77672601  7.58      ]\n",
      " [11.7002393   9.75      ]\n",
      " [ 8.73290906  9.21      ]\n",
      " [ 4.03365542  3.42      ]\n",
      " [10.77368043 11.5       ]\n",
      " [10.05352256 13.16      ]\n",
      " [ 4.15233125  4.19      ]\n",
      " [ 7.12744486  6.32      ]\n",
      " [11.9625046   9.02      ]\n",
      " [12.30869438 13.6       ]\n",
      " [10.77931993 10.46      ]\n",
      " [ 4.80007269  3.41      ]\n",
      " [12.23460173 10.41      ]\n",
      " [12.31673966 13.94      ]\n",
      " [ 3.94318984  3.84      ]\n",
      " [10.89204878 11.3       ]\n",
      " [12.28877757 13.13      ]\n",
      " [ 9.00473533  9.18      ]\n",
      " [ 5.64176498  5.2       ]\n",
      " [10.77931993 13.72      ]\n",
      " [ 6.83739603  6.68      ]\n",
      " [11.92439303  9.91      ]\n",
      " [ 6.31160981  6.58      ]\n",
      " [ 4.40115466  6.19      ]\n",
      " [ 8.81152264  5.7       ]\n",
      " [11.70508314 11.99      ]\n",
      " [ 5.90382054  5.49      ]\n",
      " [ 8.81152264  4.27      ]\n",
      " [ 7.07471876  6.94      ]\n",
      " [11.00841109 11.52      ]\n",
      " [12.22134658 13.67      ]\n",
      " [ 6.493666    7.55      ]\n",
      " [ 8.83409834  8.71      ]\n",
      " [ 8.13717944  8.31      ]\n",
      " [ 4.03365542  4.01      ]\n",
      " [ 9.32221998 13.48      ]\n",
      " [ 8.81152264  3.82      ]\n",
      " [ 4.97727685  4.37      ]\n",
      " [ 6.70346226  5.22      ]\n",
      " [11.079554   12.31      ]\n",
      " [11.12268058 11.42      ]\n",
      " [ 7.49534648  8.12      ]\n",
      " [ 8.81152264  3.45      ]\n",
      " [ 6.77104997  6.54      ]\n",
      " [ 7.86883723  7.03      ]\n",
      " [12.23150096  9.88      ]\n",
      " [11.14110225 11.77      ]\n",
      " [ 7.07471876  8.40865731]\n",
      " [12.31673966  9.92      ]\n",
      " [11.81339947 11.99      ]\n",
      " [ 6.493666    5.14      ]\n",
      " [12.31673966 12.59      ]\n",
      " [ 6.99765237  7.66      ]\n",
      " [12.25145808 11.4       ]\n",
      " [11.84509124 12.        ]\n",
      " [10.26980996  9.46      ]\n",
      " [11.19577807 10.88      ]\n",
      " [11.60833716  8.62      ]\n",
      " [11.99368107 12.88      ]\n",
      " [11.74067407  9.83      ]\n",
      " [12.29953065 10.89      ]\n",
      " [ 9.44640368  8.56      ]\n",
      " [ 7.22271964  6.62      ]\n",
      " [11.75292604 10.71      ]\n",
      " [12.28877757 12.78      ]\n",
      " [ 8.81152264  3.83      ]\n",
      " [ 7.25846055  7.42      ]\n",
      " [ 7.1937678   7.1       ]\n",
      " [ 3.90437838  3.67      ]\n",
      " [ 4.02873162  4.48      ]\n",
      " [ 5.44779528  7.36      ]\n",
      " [ 8.03161335  8.12      ]\n",
      " [ 4.63206061  5.38      ]\n",
      " [11.93547148 11.16      ]\n",
      " [11.39826785 11.7       ]\n",
      " [ 4.63206061  4.47      ]\n",
      " [ 6.79607703  8.19      ]\n",
      " [ 7.5965734   8.25      ]\n",
      " [ 7.66395439  7.71      ]\n",
      " [ 5.31326139  4.8       ]\n",
      " [ 8.81152264  3.36      ]\n",
      " [ 4.80007269  4.98      ]\n",
      " [ 5.83607663  7.87      ]\n",
      " [10.17383456  9.92      ]\n",
      " [ 4.23781632  5.68      ]\n",
      " [10.65337743 11.53      ]\n",
      " [ 4.49782027  5.59      ]\n",
      " [ 6.35767626  5.64      ]\n",
      " [ 3.97292099  3.9       ]\n",
      " [ 8.86874247  9.09      ]\n",
      " [ 3.80509031  3.11      ]\n",
      " [ 9.9684108  10.07      ]\n",
      " [ 8.81152264  3.57      ]\n",
      " [ 4.55206736  4.01      ]\n",
      " [11.17899451  8.40865731]\n",
      " [11.75292604 11.7       ]\n",
      " [11.60629934 10.97      ]\n",
      " [ 4.80873006  5.38      ]\n",
      " [10.40104475 11.48      ]\n",
      " [ 6.66921429  7.13      ]\n",
      " [ 7.0209878   7.84      ]\n",
      " [ 7.07471876  6.72      ]\n",
      " [ 3.95147016  5.25      ]\n",
      " [ 3.76330172  3.39      ]\n",
      " [11.68638291 13.61      ]\n",
      " [ 3.75096601  3.14      ]\n",
      " [ 6.2091067   6.73      ]\n",
      " [ 4.27014147  3.62      ]\n",
      " [11.16777683 11.58      ]\n",
      " [ 3.76123868  4.67      ]\n",
      " [ 7.00545136  6.08      ]\n",
      " [ 4.27014147  4.9       ]\n",
      " [ 6.30235546  9.56      ]\n",
      " [12.13983373 13.5       ]\n",
      " [ 9.23382867  9.03      ]\n",
      " [ 6.25588722  6.36      ]\n",
      " [12.28877757 13.08      ]\n",
      " [11.17899451 11.5       ]\n",
      " [10.96305895 10.06      ]\n",
      " [11.75292604 10.64      ]\n",
      " [ 4.80007269  6.63      ]\n",
      " [11.83158698  9.32      ]\n",
      " [12.31673966 13.6       ]\n",
      " [ 4.32375754  4.82      ]\n",
      " [11.70508314 12.        ]\n",
      " [ 3.83983084  3.2       ]\n",
      " [ 6.83739603  6.42      ]\n",
      " [10.90963286 11.4       ]\n",
      " [ 8.42165462  5.68      ]\n",
      " [ 3.99084895  4.08      ]\n",
      " [12.16521693  9.06      ]\n",
      " [ 5.91347866  4.73      ]\n",
      " [11.70508314  9.89      ]\n",
      " [ 4.00945413  3.89      ]\n",
      " [ 4.01900916  4.79      ]\n",
      " [ 4.16717896  3.32      ]\n",
      " [ 8.8617762   9.49      ]\n",
      " [ 7.11997394  6.56      ]\n",
      " [ 6.62598929  6.93      ]\n",
      " [10.30767075 13.52      ]\n",
      " [ 8.08716833  8.61      ]\n",
      " [ 5.16176237  4.22      ]\n",
      " [11.22739814 12.52      ]\n",
      " [11.09722935  9.22      ]\n",
      " [10.1190163  13.52      ]\n",
      " [ 8.0260515   8.76      ]\n",
      " [10.93883874 11.47      ]\n",
      " [11.54524437 11.4       ]\n",
      " [ 3.76227864  3.71      ]\n",
      " [11.00841109 11.23      ]\n",
      " [ 8.45720477  8.67      ]\n",
      " [11.69328525 13.61      ]\n",
      " [11.99368107 13.2       ]\n",
      " [ 5.98091822  5.3       ]\n",
      " [ 9.75105935 14.22      ]\n",
      " [ 5.07796853  6.11      ]\n",
      " [ 6.11469572  7.43      ]\n",
      " [ 6.72895093  4.67      ]\n",
      " [12.30869438 12.8       ]\n",
      " [ 9.32221998 12.28      ]\n",
      " [ 6.56472087  5.77      ]\n",
      " [12.30455863 12.18      ]\n",
      " [ 5.16176237  5.6       ]\n",
      " [ 4.40115466  3.76      ]\n",
      " [11.28988167 11.5       ]\n",
      " [ 9.16324612  9.67      ]\n",
      " [11.8844397  11.52      ]\n",
      " [ 7.15712468  8.13      ]\n",
      " [ 6.21848677  6.23      ]\n",
      " [10.82568371 10.02      ]\n",
      " [ 7.20828383  6.07      ]\n",
      " [10.59181069 10.77      ]\n",
      " [11.39340636 12.08      ]\n",
      " [ 3.86354758  3.54      ]\n",
      " [10.86258475 10.45      ]\n",
      " [10.77001793 11.44      ]\n",
      " [12.31673966 13.36      ]\n",
      " [ 6.53820169  6.35      ]\n",
      " [ 3.79283379  3.08      ]\n",
      " [12.18332783 11.59      ]\n",
      " [11.28988167 11.69      ]]\n"
     ]
    }
   ],
   "source": [
    "print(compare)"
   ]
  },
  {
   "cell_type": "markdown",
   "id": "4a1d9f7d",
   "metadata": {},
   "source": [
    "## Visualizing the results"
   ]
  },
  {
   "cell_type": "code",
   "execution_count": 10,
   "id": "3f41bf1a",
   "metadata": {},
   "outputs": [
    {
     "data": {
      "image/png": "[encoded data removed]",
      "text/plain": [
       "<Figure size 432x288 with 1 Axes>"
      ]
     },
     "metadata": {
      "needs_background": "light"
     },
     "output_type": "display_data"
    }
   ],
   "source": [
    "plt.scatter(sc_x.inverse_transform(x_train), sc_y.inverse_transform(y_train), color='red')\n",
    "plt.plot(sc_x.inverse_transform(x_train), sc_y.inverse_transform(regressor.predict(x_train).reshape(-1, 1)), color='blue')\n",
    "plt.title('Salinity vs Temperature')\n",
    "plt.xlabel('Salinity')\n",
    "plt.ylabel('Temperature')\n",
    "plt.show()"
   ]
  },
  {
   "cell_type": "markdown",
   "id": "acc12db9",
   "metadata": {},
   "source": [
    "## Evaluating the model"
   ]
  },
  {
   "cell_type": "code",
   "execution_count": 11,
   "id": "b868816a",
   "metadata": {},
   "outputs": [
    {
     "data": {
      "text/plain": [
       "0.7689751920968313"
      ]
     },
     "execution_count": 11,
     "metadata": {},
     "output_type": "execute_result"
    }
   ],
   "source": [
    "from sklearn.metrics import r2_score\n",
    "r2_score(sc_y.inverse_transform(y_test), y_pred)"
   ]
  },
  {
   "cell_type": "code",
   "execution_count": null,
   "id": "f4247791",
   "metadata": {},
   "outputs": [],
   "source": []
  }
 ],
 "metadata": {
  "kernelspec": {
   "display_name": "Python 3 (ipykernel)",
   "language": "python",
   "name": "python3"
  },
  "language_info": {
   "codemirror_mode": {
    "name": "ipython",
    "version": 3
   },
   "file_extension": ".py",
   "mimetype": "text/x-python",
   "name": "python",
   "nbconvert_exporter": "python",
   "pygments_lexer": "ipython3",
   "version": "3.9.7"
  }
 },
 "nbformat": 4,
 "nbformat_minor": 5
}
