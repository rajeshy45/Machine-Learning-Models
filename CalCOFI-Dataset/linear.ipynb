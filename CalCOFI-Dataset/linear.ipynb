{
 "cells": [
  {
   "cell_type": "markdown",
   "id": "65486523",
   "metadata": {},
   "source": [
    "# Simple Linear Regression"
   ]
  },
  {
   "cell_type": "markdown",
   "id": "34660e95",
   "metadata": {},
   "source": [
    "## Importing Libraries"
   ]
  },
  {
   "cell_type": "code",
   "execution_count": 1,
   "id": "d7587d8b",
   "metadata": {},
   "outputs": [],
   "source": [
    "import numpy as np\n",
    "import matplotlib.pyplot as plt\n",
    "import pandas as pd"
   ]
  },
  {
   "cell_type": "markdown",
   "id": "40cfd554",
   "metadata": {},
   "source": [
    "## Importing the dataset"
   ]
  },
  {
   "cell_type": "code",
   "execution_count": 2,
   "id": "753e316e",
   "metadata": {},
   "outputs": [],
   "source": [
    "dataset = pd.read_csv('data.csv')\n",
    "x = dataset[['Salnty']].iloc[:1000,:].values\n",
    "y = dataset[['T_degC']].iloc[:1000,:].values"
   ]
  },
  {
   "cell_type": "markdown",
   "id": "d26a2de7",
   "metadata": {},
   "source": [
    "## Taking care of missing data"
   ]
  },
  {
   "cell_type": "code",
   "execution_count": 3,
   "id": "02426401",
   "metadata": {},
   "outputs": [],
   "source": [
    "from sklearn.impute import SimpleImputer\n",
    "x_imputer = SimpleImputer(missing_values=np.nan, strategy='mean')\n",
    "x = x_imputer.fit_transform(x)"
   ]
  },
  {
   "cell_type": "code",
   "execution_count": 4,
   "id": "b59a2df1",
   "metadata": {},
   "outputs": [],
   "source": [
    "y_imputer = SimpleImputer(missing_values=np.nan, strategy='mean')\n",
    "y = y_imputer.fit_transform(y)"
   ]
  },
  {
   "cell_type": "markdown",
   "id": "85522d3a",
   "metadata": {},
   "source": [
    "## Splitting the data into training and test sets"
   ]
  },
  {
   "cell_type": "code",
   "execution_count": 5,
   "id": "45dfabaf",
   "metadata": {},
   "outputs": [],
   "source": [
    "from sklearn.model_selection import train_test_split\n",
    "x_train, x_test, y_train, y_test = train_test_split(x, y, test_size=0.25, random_state=0)"
   ]
  },
  {
   "cell_type": "markdown",
   "id": "6bf3b935",
   "metadata": {},
   "source": [
    "## Training the model"
   ]
  },
  {
   "cell_type": "code",
   "execution_count": 6,
   "id": "686e0775",
   "metadata": {},
   "outputs": [
    {
     "data": {
      "text/plain": [
       "LinearRegression()"
      ]
     },
     "execution_count": 6,
     "metadata": {},
     "output_type": "execute_result"
    }
   ],
   "source": [
    "from sklearn.linear_model import LinearRegression\n",
    "regressor = LinearRegression()\n",
    "regressor.fit(x_train, y_train)"
   ]
  },
  {
   "cell_type": "markdown",
   "id": "ce977969",
   "metadata": {},
   "source": [
    "## Testing the model"
   ]
  },
  {
   "cell_type": "code",
   "execution_count": 7,
   "id": "7175cff4",
   "metadata": {},
   "outputs": [
    {
     "name": "stdout",
     "output_type": "stream",
     "text": [
      "[[ 6.4640045   7.76      ]\n",
      " [ 9.37020747 13.57      ]\n",
      " [ 6.87993813  7.91      ]\n",
      " [12.24974804 12.5       ]\n",
      " [ 8.41945333  3.51      ]\n",
      " [ 3.92574281  4.3       ]\n",
      " [ 5.25886345  4.72      ]\n",
      " [10.38337915  9.83      ]\n",
      " [ 5.59480984  4.53      ]\n",
      " [11.02860954 12.46      ]\n",
      " [ 4.9975718   4.5       ]\n",
      " [11.82848192 12.19      ]\n",
      " [ 5.74411936  5.09      ]\n",
      " [ 6.99192027  5.13      ]\n",
      " [ 6.19738037  4.65      ]\n",
      " [ 4.83759733  3.99      ]\n",
      " [ 4.40033376  4.42      ]\n",
      " [ 5.12555138  3.88      ]\n",
      " [ 7.46651121  8.76      ]\n",
      " [ 7.48250866  7.58      ]\n",
      " [12.30840535  9.75      ]\n",
      " [ 8.35703579  9.21      ]\n",
      " [ 4.9975718   3.42      ]\n",
      " [13.20959489 11.5       ]\n",
      " [ 9.22623045 13.16      ]\n",
      " [ 5.11488642  4.19      ]\n",
      " [ 6.95459289  6.32      ]\n",
      " [10.45803391  9.02      ]\n",
      " [11.28990118 13.6       ]\n",
      " [ 9.6368316  10.46      ]\n",
      " [ 5.58414488  3.41      ]\n",
      " [10.8259752  10.41      ]\n",
      " [11.18325153 13.94      ]\n",
      " [ 4.89092215  3.84      ]\n",
      " [13.10294524 11.3       ]\n",
      " [10.96995223 13.13      ]\n",
      " [ 8.56500261  9.18      ]\n",
      " [ 6.06406831  5.2       ]\n",
      " [ 9.6368316  13.72      ]\n",
      " [ 6.75729104  6.68      ]\n",
      " [10.42070653  9.91      ]\n",
      " [ 6.43734208  6.58      ]\n",
      " [ 5.31752075  6.19      ]\n",
      " [ 8.41945333  5.7       ]\n",
      " [12.30307286 11.99      ]\n",
      " [ 6.20804534  5.49      ]\n",
      " [ 8.41945333  4.27      ]\n",
      " [ 6.91726551  6.94      ]\n",
      " [12.99629559 11.52      ]\n",
      " [10.79931279 13.67      ]\n",
      " [ 6.54399173  7.55      ]\n",
      " [ 8.43702303  8.71      ]\n",
      " [ 7.82378754  8.31      ]\n",
      " [ 4.9975718   4.01      ]\n",
      " [ 8.7836344  13.48      ]\n",
      " [ 8.41945333  3.82      ]\n",
      " [ 5.69079453  4.37      ]\n",
      " [ 6.67197132  5.22      ]\n",
      " [ 9.81280352 12.31      ]\n",
      " [12.88964594 11.42      ]\n",
      " [ 7.23721446  8.12      ]\n",
      " [ 8.41945333  3.45      ]\n",
      " [ 6.71463118  6.54      ]\n",
      " [ 7.56782838  7.03      ]\n",
      " [11.55652531  9.88      ]\n",
      " [ 9.8501309  11.77      ]\n",
      " [ 6.91726551  8.40865731]\n",
      " [11.18325153  9.92      ]\n",
      " [12.18042577 11.99      ]\n",
      " [ 6.54399173  5.14      ]\n",
      " [11.18325153 12.59      ]\n",
      " [ 6.86394069  7.66      ]\n",
      " [10.86330258 11.4       ]\n",
      " [12.14309839 12.        ]\n",
      " [ 9.34887754  9.46      ]\n",
      " [12.82032367 10.88      ]\n",
      " [10.15941489  8.62      ]\n",
      " [10.49002881 12.88      ]\n",
      " [10.26073206  9.83      ]\n",
      " [11.34322601 10.89      ]\n",
      " [ 8.86362163  8.56      ]\n",
      " [ 7.02391516  6.62      ]\n",
      " [12.24974804 10.71      ]\n",
      " [10.96995223 12.78      ]\n",
      " [ 8.41945333  3.83      ]\n",
      " [ 7.05057757  7.42      ]\n",
      " [ 7.00258523  7.1       ]\n",
      " [ 4.83759733  3.67      ]\n",
      " [ 4.99223932  4.48      ]\n",
      " [ 5.95741866  7.36      ]\n",
      " [ 7.72247037  8.12      ]\n",
      " [ 5.47749523  5.38      ]\n",
      " [10.4313715  11.16      ]\n",
      " [12.62302182 11.7       ]\n",
      " [ 5.47749523  4.47      ]\n",
      " [ 6.73062862  8.19      ]\n",
      " [ 7.32253418  8.25      ]\n",
      " [ 7.38119149  7.71      ]\n",
      " [ 5.8827639   4.8       ]\n",
      " [ 8.41945333  3.36      ]\n",
      " [ 5.58414488  4.98      ]\n",
      " [ 6.17071796  7.87      ]\n",
      " [13.7268457   9.92      ]\n",
      " [ 5.18954117  5.68      ]\n",
      " [13.31624455 11.53      ]\n",
      " [ 5.38684303  5.59      ]\n",
      " [ 6.4640045   5.64      ]\n",
      " [ 4.92824953  3.9       ]\n",
      " [ 8.46368544  9.09      ]\n",
      " [ 4.65629292  3.11      ]\n",
      " [13.89748514 10.07      ]\n",
      " [ 8.41945333  3.57      ]\n",
      " [ 5.4241704   4.01      ]\n",
      " [12.83632112  8.40865731]\n",
      " [12.24974804 11.7       ]\n",
      " [12.40972252 10.97      ]\n",
      " [ 5.58947736  5.38      ]\n",
      " [13.53487633 11.48      ]\n",
      " [ 6.65064138  7.13      ]\n",
      " [ 6.87993813  7.84      ]\n",
      " [ 6.91726551  6.72      ]\n",
      " [ 4.90158712  5.25      ]\n",
      " [ 4.51764837  3.39      ]\n",
      " [10.2180722  13.61      ]\n",
      " [ 4.3576739   3.14      ]\n",
      " [ 6.37868478  6.73      ]\n",
      " [ 5.21620358  3.62      ]\n",
      " [12.84698608 11.58      ]\n",
      " [ 4.26168921  4.67      ]\n",
      " [ 6.86927317  6.08      ]\n",
      " [ 5.21620358  4.9       ]\n",
      " [ 6.4320096   9.56      ]\n",
      " [10.66600073 13.5       ]\n",
      " [ 8.72497709  9.03      ]\n",
      " [ 6.40534719  6.36      ]\n",
      " [10.96995223 13.08      ]\n",
      " [12.83632112 11.5       ]\n",
      " [ 9.74348125 10.06      ]\n",
      " [12.24974804 10.64      ]\n",
      " [ 5.58414488  6.63      ]\n",
      " [12.15909584  9.32      ]\n",
      " [11.18325153 13.6       ]\n",
      " [ 5.25886345  4.82      ]\n",
      " [12.30307286 12.        ]\n",
      " [ 4.73094767  3.2       ]\n",
      " [ 6.75729104  6.42      ]\n",
      " [13.0869478  11.4       ]\n",
      " [ 8.09041167  5.68      ]\n",
      " [ 4.94957946  4.08      ]\n",
      " [10.70332811  9.06      ]\n",
      " [ 6.21337782  4.73      ]\n",
      " [12.30307286  9.89      ]\n",
      " [ 4.97090939  3.89      ]\n",
      " [ 4.98157435  4.79      ]\n",
      " [ 3.55780152  3.32      ]\n",
      " [ 8.45835296  9.49      ]\n",
      " [ 6.94926041  6.56      ]\n",
      " [ 6.62397897  6.93      ]\n",
      " [ 9.37020747 13.52      ]\n",
      " [ 7.7757952   8.61      ]\n",
      " [ 5.79744418  4.22      ]\n",
      " [ 9.90345573 12.52      ]\n",
      " [ 9.82346849  9.22      ]\n",
      " [ 9.26355782 13.52      ]\n",
      " [ 7.71713789  8.76      ]\n",
      " [13.06028538 11.47      ]\n",
      " [12.47371231 11.4       ]\n",
      " [ 4.51231589  3.71      ]\n",
      " [12.99629559 11.23      ]\n",
      " [ 8.12240656  8.67      ]\n",
      " [10.22340468 13.61      ]\n",
      " [10.49002881 13.2       ]\n",
      " [ 6.2507052   5.3       ]\n",
      " [ 9.05025852 14.22      ]\n",
      " [ 5.74945184  6.11      ]\n",
      " [ 6.32535995  7.43      ]\n",
      " [ 6.68796876  4.67      ]\n",
      " [11.28990118 12.8       ]\n",
      " [ 8.7836344  12.28      ]\n",
      " [ 6.58665159  5.77      ]\n",
      " [11.03927451 12.18      ]\n",
      " [ 5.79744418  5.6       ]\n",
      " [ 5.31752075  3.76      ]\n",
      " [12.72967147 11.5       ]\n",
      " [ 8.67698475  9.67      ]\n",
      " [10.38337915 11.52      ]\n",
      " [ 6.97592282  8.13      ]\n",
      " [ 6.38401726  6.23      ]\n",
      " [ 9.66349401 10.02      ]\n",
      " [ 7.0132502   6.07      ]\n",
      " [ 9.53018195 10.77      ]\n",
      " [10.01010538 12.08      ]\n",
      " [ 4.77360754  3.54      ]\n",
      " [ 9.68482394 10.45      ]\n",
      " [ 9.63149912 11.44      ]\n",
      " [11.18325153 13.36      ]\n",
      " [ 6.57065415  6.35      ]\n",
      " [ 4.62429802  3.08      ]\n",
      " [11.65784248 11.59      ]\n",
      " [12.72967147 11.69      ]\n",
      " [10.59667846  9.72      ]\n",
      " [ 4.84292981  3.69      ]\n",
      " [ 6.17605044  6.93      ]\n",
      " [10.72465804 13.11      ]\n",
      " [ 4.86425974  4.57      ]\n",
      " [10.96995223 13.38      ]\n",
      " [ 6.43734208  5.6       ]\n",
      " [ 5.79744418  6.18      ]\n",
      " [ 5.90409383  5.42      ]\n",
      " [ 4.3576739   4.35      ]\n",
      " [ 6.8906031   5.79      ]\n",
      " [10.80997776 14.        ]\n",
      " [ 9.38087244  8.83      ]\n",
      " [ 6.93326296  8.61      ]\n",
      " [ 6.91726551  8.55      ]\n",
      " [ 6.9812553   8.5       ]\n",
      " [12.37239514 11.18      ]\n",
      " [12.71367402 11.64      ]\n",
      " [ 8.01042443  7.85      ]\n",
      " [10.11675503 13.7       ]\n",
      " [ 7.685143    8.84      ]\n",
      " [10.8259752  13.48      ]\n",
      " [ 6.27736761  6.38      ]\n",
      " [ 6.93859544  6.86      ]\n",
      " [ 4.85359477  3.18      ]\n",
      " [10.11675503  9.16      ]\n",
      " [ 6.87460565  8.        ]\n",
      " [12.40972252 11.8       ]\n",
      " [ 7.04524509  8.26      ]\n",
      " [ 6.90660055  5.71      ]\n",
      " [ 8.41945333 11.06      ]\n",
      " [ 5.29085834  3.94      ]\n",
      " [10.01543786 13.33      ]\n",
      " [10.44203646 13.29      ]\n",
      " [13.79616797 10.05      ]\n",
      " [ 7.02391516  6.47      ]\n",
      " [11.22591139 13.19      ]\n",
      " [10.80997776 12.66      ]\n",
      " [ 6.27736761  7.67      ]\n",
      " [ 4.47498851  2.88      ]\n",
      " [ 8.23972118  8.49      ]\n",
      " [ 7.71713789  8.57      ]\n",
      " [ 8.39969565  7.75      ]\n",
      " [ 6.38401726  5.87      ]\n",
      " [ 7.13056481  8.66      ]\n",
      " [ 5.4561653   5.01      ]\n",
      " [10.01010538  9.19      ]\n",
      " [ 9.65282905 10.46      ]\n",
      " [ 8.95960632  9.89      ]\n",
      " [ 6.90126806  6.76      ]]\n"
     ]
    }
   ],
   "source": [
    "y_pred = regressor.predict(x_test)\n",
    "print(np.concatenate((y_pred, y_test), 1))"
   ]
  },
  {
   "cell_type": "markdown",
   "id": "d2b91d15",
   "metadata": {},
   "source": [
    "## Visualizing the results"
   ]
  },
  {
   "cell_type": "code",
   "execution_count": 8,
   "id": "983cb628",
   "metadata": {},
   "outputs": [
    {
     "data": {
      "image/png": "[encoded data removed]",
      "text/plain": [
       "<Figure size 432x288 with 1 Axes>"
      ]
     },
     "metadata": {
      "needs_background": "light"
     },
     "output_type": "display_data"
    }
   ],
   "source": [
    "plt.scatter(x_train, y_train, color='red')\n",
    "plt.plot(x_train, regressor.predict(x_train), color='blue')\n",
    "plt.title('Salinity vs Temperature')\n",
    "plt.xlabel('Salinity')\n",
    "plt.ylabel('Temperature')\n",
    "plt.show()"
   ]
  },
  {
   "cell_type": "markdown",
   "id": "d5afe4e8",
   "metadata": {},
   "source": [
    "## Evaluating the model"
   ]
  },
  {
   "cell_type": "code",
   "execution_count": 9,
   "id": "88c8ad43",
   "metadata": {},
   "outputs": [
    {
     "data": {
      "text/plain": [
       "0.6949004671397814"
      ]
     },
     "execution_count": 9,
     "metadata": {},
     "output_type": "execute_result"
    }
   ],
   "source": [
    "from sklearn.metrics import r2_score\n",
    "r2_score(y_test, y_pred)"
   ]
  },
  {
   "cell_type": "code",
   "execution_count": null,
   "id": "2e48ea86-87c0-4593-b739-a08799c70b6b",
   "metadata": {},
   "outputs": [],
   "source": []
  }
 ],
 "metadata": {
  "kernelspec": {
   "display_name": "Python 3 (ipykernel)",
   "language": "python",
   "name": "python3"
  },
  "language_info": {
   "codemirror_mode": {
    "name": "ipython",
    "version": 3
   },
   "file_extension": ".py",
   "mimetype": "text/x-python",
   "name": "python",
   "nbconvert_exporter": "python",
   "pygments_lexer": "ipython3",
   "version": "3.9.7"
  }
 },
 "nbformat": 4,
 "nbformat_minor": 5
}
