{
 "cells": [
  {
   "cell_type": "markdown",
   "id": "b94da48d",
   "metadata": {},
   "source": [
    "# Polynomial Linear Regression"
   ]
  },
  {
   "cell_type": "markdown",
   "id": "c1bb3a01",
   "metadata": {},
   "source": [
    "## Importing Libraries"
   ]
  },
  {
   "cell_type": "code",
   "execution_count": 1,
   "id": "351c8ea6",
   "metadata": {},
   "outputs": [],
   "source": [
    "import numpy as np\n",
    "import matplotlib.pyplot as plt\n",
    "import pandas as pd"
   ]
  },
  {
   "cell_type": "markdown",
   "id": "859b026a",
   "metadata": {},
   "source": [
    "## Importing the dataset"
   ]
  },
  {
   "cell_type": "code",
   "execution_count": 2,
   "id": "49774fec",
   "metadata": {},
   "outputs": [],
   "source": [
    "dataset = pd.read_csv('data.csv')\n",
    "x = dataset[['Salnty']].iloc[:1000,:].values\n",
    "y = dataset[['T_degC']].iloc[:1000,:].values"
   ]
  },
  {
   "cell_type": "markdown",
   "id": "87ffe7e4",
   "metadata": {},
   "source": [
    "## Taking care of missing data"
   ]
  },
  {
   "cell_type": "code",
   "execution_count": 3,
   "id": "2ae776c5",
   "metadata": {},
   "outputs": [],
   "source": [
    "from sklearn.impute import SimpleImputer\n",
    "x_imputer = SimpleImputer(missing_values=np.nan, strategy='mean')\n",
    "x = x_imputer.fit_transform(x)"
   ]
  },
  {
   "cell_type": "code",
   "execution_count": 4,
   "id": "5ad44411",
   "metadata": {},
   "outputs": [],
   "source": [
    "y_imputer = SimpleImputer(missing_values=np.nan, strategy='mean')\n",
    "y = y_imputer.fit_transform(y)"
   ]
  },
  {
   "cell_type": "markdown",
   "id": "875c778f",
   "metadata": {},
   "source": [
    "## Splitting the data into training and test sets"
   ]
  },
  {
   "cell_type": "code",
   "execution_count": 5,
   "id": "84154db4",
   "metadata": {},
   "outputs": [],
   "source": [
    "from sklearn.model_selection import train_test_split\n",
    "x_train, x_test, y_train, y_test = train_test_split(x, y, test_size=0.25, random_state=0)"
   ]
  },
  {
   "cell_type": "markdown",
   "id": "dfb1c3ae",
   "metadata": {},
   "source": [
    "## Adding polynomial features"
   ]
  },
  {
   "cell_type": "code",
   "execution_count": 6,
   "id": "16d8a24b",
   "metadata": {},
   "outputs": [],
   "source": [
    "from sklearn.preprocessing import PolynomialFeatures\n",
    "pf = PolynomialFeatures(degree=2)\n",
    "x_train_poly = pf.fit_transform(x_train)\n",
    "x_test_poly = pf.transform(x_test)"
   ]
  },
  {
   "cell_type": "markdown",
   "id": "853706d2",
   "metadata": {},
   "source": [
    "## Training the model"
   ]
  },
  {
   "cell_type": "code",
   "execution_count": 7,
   "id": "b7a1e40b",
   "metadata": {},
   "outputs": [
    {
     "data": {
      "text/plain": [
       "LinearRegression()"
      ]
     },
     "execution_count": 7,
     "metadata": {},
     "output_type": "execute_result"
    }
   ],
   "source": [
    "from sklearn.linear_model import LinearRegression\n",
    "regressor = LinearRegression()\n",
    "regressor.fit(x_train_poly, y_train)"
   ]
  },
  {
   "cell_type": "markdown",
   "id": "30890ff2",
   "metadata": {},
   "source": [
    "## Testing the model"
   ]
  },
  {
   "cell_type": "code",
   "execution_count": 8,
   "id": "089cbd11",
   "metadata": {},
   "outputs": [
    {
     "name": "stdout",
     "output_type": "stream",
     "text": [
      "[[ 6.72957561  7.76      ]\n",
      " [10.26343621 13.57      ]\n",
      " [ 7.37030279  7.91      ]\n",
      " [11.59403099 12.5       ]\n",
      " [ 9.34959459  3.51      ]\n",
      " [ 1.84243503  4.3       ]\n",
      " [ 4.6185513   4.72      ]\n",
      " [10.97800066  9.83      ]\n",
      " [ 5.24507082  4.53      ]\n",
      " [11.29363704 12.46      ]\n",
      " [ 4.11092449  4.5       ]\n",
      " [11.53430761 12.19      ]\n",
      " [ 5.51408323  5.09      ]\n",
      " [ 7.53510327  5.13      ]\n",
      " [ 6.29514012  4.65      ]\n",
      " [ 3.79135138  3.99      ]\n",
      " [ 2.88382346  4.42      ]\n",
      " [ 4.36178112  3.88      ]\n",
      " [ 8.19727     8.76      ]\n",
      " [ 8.2185676   7.58      ]\n",
      " [11.59867881  9.75      ]\n",
      " [ 9.28136021  9.21      ]\n",
      " [ 4.11092449  3.42      ]\n",
      " [11.55737565 11.5       ]\n",
      " [10.14018439 13.16      ]\n",
      " [ 4.34103943  4.19      ]\n",
      " [ 7.48053288  6.32      ]\n",
      " [11.02007088  9.02      ]\n",
      " [11.39059286 13.6       ]\n",
      " [10.47741551 10.46      ]\n",
      " [ 5.22563334  3.41      ]\n",
      " [11.2061976  10.41      ]\n",
      " [11.35316804 13.94      ]\n",
      " [ 3.89861678  3.84      ]\n",
      " [11.57330493 11.3       ]\n",
      " [11.26942605 13.13      ]\n",
      " [ 9.50476384  9.18      ]\n",
      " [ 6.07097522  5.2       ]\n",
      " [10.47741551 13.72      ]\n",
      " [ 7.18605743  6.68      ]\n",
      " [10.99921732  9.91      ]\n",
      " [ 6.68696572  6.58      ]\n",
      " [ 4.73006294  6.19      ]\n",
      " [ 9.34959459  5.7       ]\n",
      " [11.59829333 11.99      ]\n",
      " [ 6.31287323  5.49      ]\n",
      " [ 9.34959459  4.27      ]\n",
      " [ 7.42559939  6.94      ]\n",
      " [11.5862701  11.52      ]\n",
      " [11.1938958  13.67      ]\n",
      " [ 6.85629374  7.55      ]\n",
      " [ 9.36861854  8.71      ]\n",
      " [ 8.65702887  8.31      ]\n",
      " [ 4.11092449  4.01      ]\n",
      " [ 9.72747118 13.48      ]\n",
      " [ 9.34959459  3.82      ]\n",
      " [ 5.4186743   4.37      ]\n",
      " [ 7.05557473  5.22      ]\n",
      " [10.60849345 12.31      ]\n",
      " [11.59627115 11.42      ]\n",
      " [ 7.88467552  8.12      ]\n",
      " [ 9.34959459  3.45      ]\n",
      " [ 7.12105321  6.54      ]\n",
      " [ 8.33102847  7.03      ]\n",
      " [11.4711869   9.88      ]\n",
      " [10.63526042 11.77      ]\n",
      " [ 7.42559939  8.40865731]\n",
      " [11.35316804  9.92      ]\n",
      " [11.58738211 11.99      ]\n",
      " [ 6.85629374  5.14      ]\n",
      " [11.35316804 12.59      ]\n",
      " [ 7.3464931   7.66      ]\n",
      " [11.22310888 11.4       ]\n",
      " [11.58328322 12.        ]\n",
      " [10.24551756  9.46      ]\n",
      " [11.60118232 10.88      ]\n",
      " [10.8430755   8.62      ]\n",
      " [11.03765636 12.88      ]\n",
      " [10.90573222  9.83      ]\n",
      " [11.40819373 10.89      ]\n",
      " [ 9.80583716  8.56      ]\n",
      " [ 7.58158889  6.62      ]\n",
      " [11.59403099 10.71      ]\n",
      " [11.26942605 12.78      ]\n",
      " [ 9.34959459  3.83      ]\n",
      " [ 7.62012312  7.42      ]\n",
      " [ 7.55062812  7.1       ]\n",
      " [ 3.79135138  3.67      ]\n",
      " [ 4.10037951  4.48      ]\n",
      " [ 5.88830868  7.36      ]\n",
      " [ 8.53002858  8.12      ]\n",
      " [ 5.02962827  5.38      ]\n",
      " [11.00521253 11.16      ]\n",
      " [11.60830576 11.7       ]\n",
      " [ 5.02962827  4.47      ]\n",
      " [ 7.14548537  8.19      ]\n",
      " [ 8.00259037  8.25      ]\n",
      " [ 8.0825564   7.71      ]\n",
      " [ 5.75867844  4.8       ]\n",
      " [ 9.34959459  3.36      ]\n",
      " [ 5.22563334  4.98      ]\n",
      " [ 6.25067765  7.87      ]\n",
      " [11.43806892  9.92      ]\n",
      " [ 4.48560881  5.68      ]\n",
      " [11.53848225 11.53      ]\n",
      " [ 4.86069342  5.59      ]\n",
      " [ 6.72957561  5.64      ]\n",
      " [ 3.97326165  3.9       ]\n",
      " [ 9.39733413  9.09      ]\n",
      " [ 3.42110611  3.11      ]\n",
      " [11.38341516 10.07      ]\n",
      " [ 9.34959459  3.57      ]\n",
      " [ 4.93051419  4.01      ]\n",
      " [11.60016013  8.40865731]\n",
      " [11.59403099 11.7       ]\n",
      " [11.60459492 10.97      ]\n",
      " [ 5.23535579  5.38      ]\n",
      " [11.49048421 11.48      ]\n",
      " [ 7.02265764  7.13      ]\n",
      " [ 7.37030279  7.84      ]\n",
      " [ 7.42559939  6.72      ]\n",
      " [ 3.91998094  5.25      ]\n",
      " [ 3.13219735  3.39      ]\n",
      " [10.87967649 13.61      ]\n",
      " [ 2.79261645  3.14      ]\n",
      " [ 6.59257185  6.73      ]\n",
      " [ 4.53688874  3.62      ]\n",
      " [11.59944161 11.58      ]\n",
      " [ 2.58566666  4.67      ]\n",
      " [ 7.35443707  6.08      ]\n",
      " [ 4.53688874  4.9       ]\n",
      " [ 6.67842151  9.56      ]\n",
      " [11.12960796 13.5       ]\n",
      " [ 9.66894313  9.03      ]\n",
      " [ 6.63558931  6.36      ]\n",
      " [11.26942605 13.08      ]\n",
      " [11.60016013 11.5       ]\n",
      " [10.55782002 10.06      ]\n",
      " [11.59403099 10.64      ]\n",
      " [ 5.22563334  6.63      ]\n",
      " [11.58508435  9.32      ]\n",
      " [11.35316804 13.6       ]\n",
      " [ 4.6185513   4.82      ]\n",
      " [11.59829333 12.        ]\n",
      " [ 3.57459749  3.2       ]\n",
      " [ 7.18605743  6.42      ]\n",
      " [11.57543867 11.4       ]\n",
      " [ 8.97845741  5.68      ]\n",
      " [ 4.01575283  4.08      ]\n",
      " [11.1480754   9.06      ]\n",
      " [ 6.32172867  4.73      ]\n",
      " [11.59829333  9.89      ]\n",
      " [ 4.05812545  3.89      ]\n",
      " [ 4.0792673   4.79      ]\n",
      " [ 0.99467297  3.32      ]\n",
      " [ 9.39160583  9.49      ]\n",
      " [ 7.47270747  6.56      ]\n",
      " [ 6.98134455  6.93      ]\n",
      " [10.26343621 13.52      ]\n",
      " [ 8.5972043   8.61      ]\n",
      " [ 5.60875114  4.22      ]\n",
      " [10.67286908 12.52      ]\n",
      " [10.61617821  9.22      ]\n",
      " [10.17265729 13.52      ]\n",
      " [ 8.52327025  8.76      ]\n",
      " [11.57884669 11.47      ]\n",
      " [11.6069531  11.4       ]\n",
      " [ 3.12098544  3.71      ]\n",
      " [11.5862701  11.23      ]\n",
      " [ 9.0157839   8.67      ]\n",
      " [10.8829594  13.61      ]\n",
      " [11.03765636 13.2       ]\n",
      " [ 6.38350927  5.3       ]\n",
      " [ 9.98220709 14.22      ]\n",
      " [ 5.52358337  6.11      ]\n",
      " [ 6.50598116  7.43      ]\n",
      " [ 7.08018473  4.67      ]\n",
      " [11.39059286 12.8       ]\n",
      " [ 9.72747118 12.28      ]\n",
      " [ 6.92319499  5.77      ]\n",
      " [11.2979427  12.18      ]\n",
      " [ 5.60875114  5.6       ]\n",
      " [ 4.73006294  3.76      ]\n",
      " [11.605715   11.5       ]\n",
      " [ 9.62038962  9.67      ]\n",
      " [10.97800066 11.52      ]\n",
      " [ 7.51176042  8.13      ]\n",
      " [ 6.60119016  6.23      ]\n",
      " [10.49779452 10.02      ]\n",
      " [ 7.56612332  6.07      ]\n",
      " [10.39404688 10.77      ]\n",
      " [10.7458633  12.08      ]\n",
      " [ 3.66165474  3.54      ]\n",
      " [10.51396435 10.45      ]\n",
      " [10.47331748 11.44      ]\n",
      " [11.35316804 13.36      ]\n",
      " [ 6.8981626   6.35      ]\n",
      " [ 3.35487948  3.08      ]\n",
      " [11.49695519 11.59      ]\n",
      " [11.605715   11.69      ]\n",
      " [11.09434794  9.72      ]\n",
      " [ 3.80211126  3.69      ]\n",
      " [ 6.25958497  6.93      ]\n",
      " [11.1584652  13.11      ]\n",
      " [ 3.84507671  4.57      ]\n",
      " [11.26942605 13.38      ]\n",
      " [ 6.68696572  5.6       ]\n",
      " [ 5.60875114  6.18      ]\n",
      " [ 5.79586386  5.42      ]\n",
      " [ 2.79261645  4.35      ]\n",
      " [ 7.38613887  5.79      ]\n",
      " [11.19883875 14.        ]\n",
      " [10.27235108  8.83      ]\n",
      " [ 7.44918678  8.61      ]\n",
      " [ 7.42559939  8.55      ]\n",
      " [ 7.51954878  8.5       ]\n",
      " [11.60272653 11.18      ]\n",
      " [11.60629258 11.64      ]\n",
      " [ 8.88397405  7.85      ]\n",
      " [10.81589341 13.7       ]\n",
      " [ 8.48256467  8.84      ]\n",
      " [11.2061976  13.48      ]\n",
      " [ 6.42741597  6.38      ]\n",
      " [ 7.45703442  6.86      ]\n",
      " [ 3.82360881  3.18      ]\n",
      " [10.81589341  9.16      ]\n",
      " [ 7.36237364  8.        ]\n",
      " [11.60459492 11.8       ]\n",
      " [ 7.61243109  8.26      ]\n",
      " [ 7.40983741  5.71      ]\n",
      " [ 9.34959459 11.06      ]\n",
      " [ 4.67948698  3.94      ]\n",
      " [10.7494352  13.33      ]\n",
      " [11.0111781  13.29      ]\n",
      " [11.416781   10.05      ]\n",
      " [ 7.58158889  6.47      ]\n",
      " [11.36849366 13.19      ]\n",
      " [11.19883875 12.66      ]\n",
      " [ 6.42741597  7.67      ]\n",
      " [ 3.04229455  2.88      ]\n",
      " [ 9.15036535  8.49      ]\n",
      " [ 8.52327025  8.57      ]\n",
      " [ 9.32810547  7.75      ]\n",
      " [ 6.60119016  5.87      ]\n",
      " [ 7.73461426  8.66      ]\n",
      " [ 4.99007156  5.01      ]\n",
      " [10.7458633   9.19      ]\n",
      " [10.48966515 10.46      ]\n",
      " [ 9.89767547  9.89      ]\n",
      " [ 7.40194531  6.76      ]]\n"
     ]
    }
   ],
   "source": [
    "y_pred = regressor.predict(x_test_poly)\n",
    "print(np.concatenate((y_pred, y_test), 1))"
   ]
  },
  {
   "cell_type": "markdown",
   "id": "4a1d9f7d",
   "metadata": {},
   "source": [
    "## Visualizing the results"
   ]
  },
  {
   "cell_type": "code",
   "execution_count": 9,
   "id": "3f41bf1a",
   "metadata": {},
   "outputs": [
    {
     "data": {
      "image/png": "[encoded data removed]",
      "text/plain": [
       "<Figure size 432x288 with 1 Axes>"
      ]
     },
     "metadata": {
      "needs_background": "light"
     },
     "output_type": "display_data"
    }
   ],
   "source": [
    "plt.scatter(x_train, y_train, color='red')\n",
    "plt.plot(x_train, regressor.predict(x_train_poly), color='blue')\n",
    "plt.title('Salinity vs Temperature')\n",
    "plt.xlabel('Salinity')\n",
    "plt.ylabel('Temperature')\n",
    "plt.show()"
   ]
  },
  {
   "cell_type": "markdown",
   "id": "c1dfbf6e",
   "metadata": {},
   "source": [
    "## Evaluating the model"
   ]
  },
  {
   "cell_type": "code",
   "execution_count": 10,
   "id": "b868816a",
   "metadata": {},
   "outputs": [
    {
     "data": {
      "text/plain": [
       "0.7478265184476538"
      ]
     },
     "execution_count": 10,
     "metadata": {},
     "output_type": "execute_result"
    }
   ],
   "source": [
    "from sklearn.metrics import r2_score\n",
    "r2_score(y_test, y_pred)"
   ]
  },
  {
   "cell_type": "code",
   "execution_count": null,
   "id": "291d1a7d-222e-455f-90e0-cb54a963b3f6",
   "metadata": {},
   "outputs": [],
   "source": []
  }
 ],
 "metadata": {
  "kernelspec": {
   "display_name": "Python 3 (ipykernel)",
   "language": "python",
   "name": "python3"
  },
  "language_info": {
   "codemirror_mode": {
    "name": "ipython",
    "version": 3
   },
   "file_extension": ".py",
   "mimetype": "text/x-python",
   "name": "python",
   "nbconvert_exporter": "python",
   "pygments_lexer": "ipython3",
   "version": "3.9.7"
  }
 },
 "nbformat": 4,
 "nbformat_minor": 5
}
