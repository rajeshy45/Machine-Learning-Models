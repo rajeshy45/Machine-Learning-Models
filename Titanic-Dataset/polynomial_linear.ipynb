{
 "cells": [
  {
   "cell_type": "markdown",
   "metadata": {},
   "source": [
    "# Polynomial Linear Regression"
   ]
  },
  {
   "cell_type": "markdown",
   "metadata": {
    "id": "Eq5B9g9w-UKz"
   },
   "source": [
    "## Importing the libraries"
   ]
  },
  {
   "cell_type": "code",
   "execution_count": 11,
   "metadata": {
    "id": "Xd9fbC3t-Q3c"
   },
   "outputs": [],
   "source": [
    "import numpy as np\n",
    "import matplotlib.pyplot as plt\n",
    "import pandas as pd"
   ]
  },
  {
   "cell_type": "markdown",
   "metadata": {
    "id": "Jeu521u--x8H"
   },
   "source": [
    "## Importing the dataset"
   ]
  },
  {
   "cell_type": "code",
   "execution_count": 12,
   "metadata": {
    "id": "9zwlWRFt-67J"
   },
   "outputs": [],
   "source": [
    "dataset = pd.read_csv('data.csv')\n",
    "features = ['Pclass', 'Sex', 'Age', 'SibSp', 'Parch', 'Embarked']\n",
    "x = dataset[features].values\n",
    "y = dataset.iloc[:, 1].values"
   ]
  },
  {
   "cell_type": "markdown",
   "metadata": {
    "id": "1_micadzB3Ih"
   },
   "source": [
    "## Taking care of missing values"
   ]
  },
  {
   "cell_type": "code",
   "execution_count": 13,
   "metadata": {
    "id": "vtAdIxU8B_QD"
   },
   "outputs": [],
   "source": [
    "from sklearn.impute import SimpleImputer\n",
    "imputer = SimpleImputer(missing_values=np.nan, strategy='median')\n",
    "x[:, 2:3] = imputer.fit_transform(x[:, 2:3])\n",
    "imputer = SimpleImputer(missing_values=np.nan, strategy='most_frequent')\n",
    "x[:, 5:6] = imputer.fit_transform(x[:, 5:6])"
   ]
  },
  {
   "cell_type": "markdown",
   "metadata": {
    "id": "m4eOvVYiHzUb"
   },
   "source": [
    "## Encoding Categorical Data"
   ]
  },
  {
   "cell_type": "code",
   "execution_count": 14,
   "metadata": {
    "id": "KR19bO8YJhQ-"
   },
   "outputs": [],
   "source": [
    "from sklearn.compose import ColumnTransformer\n",
    "from sklearn.preprocessing import OneHotEncoder\n",
    "from sklearn.preprocessing import LabelEncoder\n",
    "le = LabelEncoder()\n",
    "x[:, 1] = le.fit_transform(x[:, 1])\n",
    "ct = ColumnTransformer(transformers=[('encoder', OneHotEncoder(), [-1])], remainder='passthrough')\n",
    "x = np.array(ct.fit_transform(x))"
   ]
  },
  {
   "cell_type": "code",
   "execution_count": 15,
   "metadata": {
    "id": "DGesxmLjsaYH"
   },
   "outputs": [],
   "source": [
    "from sklearn.preprocessing import PolynomialFeatures\n",
    "poly = PolynomialFeatures(degree=4)\n",
    "x = poly.fit_transform(x)"
   ]
  },
  {
   "cell_type": "markdown",
   "metadata": {
    "id": "4sBgFST4ZYZe"
   },
   "source": [
    "## Splitting into training set and test set"
   ]
  },
  {
   "cell_type": "code",
   "execution_count": 16,
   "metadata": {
    "id": "L1oTfGDVZgaj"
   },
   "outputs": [],
   "source": [
    "from sklearn.model_selection import train_test_split\n",
    "x_train, x_test, y_train, y_test = train_test_split(x, y, test_size=0.25, random_state=0)"
   ]
  },
  {
   "cell_type": "markdown",
   "metadata": {
    "id": "kCTwhucKWJV2"
   },
   "source": [
    "## Training the model"
   ]
  },
  {
   "cell_type": "code",
   "execution_count": 17,
   "metadata": {
    "colab": {
     "base_uri": "https://localhost:8080/"
    },
    "id": "wgW4ON-FWNqW",
    "outputId": "af32256b-14a5-435e-f732-f82f3484c047"
   },
   "outputs": [
    {
     "data": {
      "text/plain": [
       "LinearRegression()"
      ]
     },
     "execution_count": 17,
     "metadata": {},
     "output_type": "execute_result"
    }
   ],
   "source": [
    "from sklearn.linear_model import LinearRegression\n",
    "regressor = LinearRegression()\n",
    "regressor.fit(x_train, y_train)"
   ]
  },
  {
   "cell_type": "markdown",
   "metadata": {
    "id": "FTiQ4Xj3cZUM"
   },
   "source": [
    "## Testing the model"
   ]
  },
  {
   "cell_type": "code",
   "execution_count": 18,
   "metadata": {
    "id": "HJ_THXYAccZV"
   },
   "outputs": [
    {
     "name": "stdout",
     "output_type": "stream",
     "text": [
      "[[ 0.00000e+00  0.00000e+00]\n",
      " [ 0.00000e+00  0.00000e+00]\n",
      " [ 0.00000e+00  0.00000e+00]\n",
      " [ 1.00000e+00  1.00000e+00]\n",
      " [ 1.00000e+00  1.00000e+00]\n",
      " [ 0.00000e+00  1.00000e+00]\n",
      " [ 1.00000e+00  1.00000e+00]\n",
      " [ 1.00000e+00  1.00000e+00]\n",
      " [ 1.00000e+00  1.00000e+00]\n",
      " [ 1.00000e+00  1.00000e+00]\n",
      " [ 0.00000e+00  0.00000e+00]\n",
      " [ 1.00000e+00  1.00000e+00]\n",
      " [ 0.00000e+00  0.00000e+00]\n",
      " [ 1.00000e+00  1.00000e+00]\n",
      " [ 1.00000e+00  1.00000e+00]\n",
      " [ 1.00000e+00  0.00000e+00]\n",
      " [ 0.00000e+00  0.00000e+00]\n",
      " [ 0.00000e+00  0.00000e+00]\n",
      " [ 0.00000e+00  0.00000e+00]\n",
      " [ 4.00000e+00  1.00000e+00]\n",
      " [ 0.00000e+00  0.00000e+00]\n",
      " [ 1.00000e+00  1.00000e+00]\n",
      " [ 0.00000e+00  0.00000e+00]\n",
      " [ 0.00000e+00  0.00000e+00]\n",
      " [ 1.00000e+00  0.00000e+00]\n",
      " [ 1.00000e+00  1.00000e+00]\n",
      " [ 0.00000e+00  0.00000e+00]\n",
      " [ 1.00000e+00  1.00000e+00]\n",
      " [ 1.00000e+00  1.00000e+00]\n",
      " [ 0.00000e+00  0.00000e+00]\n",
      " [ 0.00000e+00  0.00000e+00]\n",
      " [ 1.00000e+00  1.00000e+00]\n",
      " [ 0.00000e+00  0.00000e+00]\n",
      " [ 0.00000e+00  1.00000e+00]\n",
      " [ 0.00000e+00  0.00000e+00]\n",
      " [ 1.00000e+00  1.00000e+00]\n",
      " [ 0.00000e+00  0.00000e+00]\n",
      " [ 0.00000e+00  0.00000e+00]\n",
      " [ 0.00000e+00  0.00000e+00]\n",
      " [ 0.00000e+00  0.00000e+00]\n",
      " [ 1.00000e+00  1.00000e+00]\n",
      " [ 0.00000e+00  0.00000e+00]\n",
      " [ 0.00000e+00  0.00000e+00]\n",
      " [ 0.00000e+00  0.00000e+00]\n",
      " [ 1.00000e+00  1.00000e+00]\n",
      " [ 0.00000e+00  0.00000e+00]\n",
      " [ 0.00000e+00  0.00000e+00]\n",
      " [ 3.16000e+03  1.00000e+00]\n",
      " [ 0.00000e+00  0.00000e+00]\n",
      " [ 0.00000e+00  0.00000e+00]\n",
      " [ 0.00000e+00  1.00000e+00]\n",
      " [ 0.00000e+00  1.00000e+00]\n",
      " [ 2.00000e+00  1.00000e+00]\n",
      " [ 0.00000e+00  0.00000e+00]\n",
      " [ 0.00000e+00  1.00000e+00]\n",
      " [ 0.00000e+00  0.00000e+00]\n",
      " [ 0.00000e+00  0.00000e+00]\n",
      " [ 0.00000e+00  0.00000e+00]\n",
      " [ 0.00000e+00  0.00000e+00]\n",
      " [ 6.40000e+01  1.00000e+00]\n",
      " [ 0.00000e+00  0.00000e+00]\n",
      " [ 1.00000e+01  0.00000e+00]\n",
      " [ 1.00000e+00  1.00000e+00]\n",
      " [ 0.00000e+00  0.00000e+00]\n",
      " [ 1.00000e+00  1.00000e+00]\n",
      " [ 0.00000e+00  0.00000e+00]\n",
      " [ 1.00000e+00  1.00000e+00]\n",
      " [ 0.00000e+00  0.00000e+00]\n",
      " [ 2.00000e+00  1.00000e+00]\n",
      " [ 1.00000e+00  1.00000e+00]\n",
      " [ 1.00000e+00  1.00000e+00]\n",
      " [ 0.00000e+00  1.00000e+00]\n",
      " [ 1.00000e+00  0.00000e+00]\n",
      " [ 0.00000e+00  0.00000e+00]\n",
      " [ 0.00000e+00  0.00000e+00]\n",
      " [-0.00000e+00  1.00000e+00]\n",
      " [ 4.00000e+00  0.00000e+00]\n",
      " [ 1.00000e+00  0.00000e+00]\n",
      " [ 0.00000e+00  0.00000e+00]\n",
      " [ 0.00000e+00  0.00000e+00]\n",
      " [-0.00000e+00  0.00000e+00]\n",
      " [ 0.00000e+00  1.00000e+00]\n",
      " [ 1.00000e+00  0.00000e+00]\n",
      " [ 0.00000e+00  0.00000e+00]\n",
      " [ 0.00000e+00  0.00000e+00]\n",
      " [ 1.00000e+00  1.00000e+00]\n",
      " [ 1.00000e+00  1.00000e+00]\n",
      " [-1.00000e+00  1.00000e+00]\n",
      " [ 1.00000e+00  1.00000e+00]\n",
      " [ 0.00000e+00  0.00000e+00]\n",
      " [ 0.00000e+00  0.00000e+00]\n",
      " [ 0.00000e+00  0.00000e+00]\n",
      " [ 1.00000e+00  1.00000e+00]\n",
      " [ 0.00000e+00  1.00000e+00]\n",
      " [ 0.00000e+00  0.00000e+00]\n",
      " [ 0.00000e+00  0.00000e+00]\n",
      " [ 1.00000e+00  1.00000e+00]\n",
      " [ 0.00000e+00  0.00000e+00]\n",
      " [ 0.00000e+00  0.00000e+00]\n",
      " [ 0.00000e+00  1.00000e+00]\n",
      " [ 0.00000e+00  0.00000e+00]\n",
      " [-1.00000e+00  0.00000e+00]\n",
      " [ 0.00000e+00  0.00000e+00]\n",
      " [ 0.00000e+00  0.00000e+00]\n",
      " [ 0.00000e+00  0.00000e+00]\n",
      " [ 0.00000e+00  1.00000e+00]\n",
      " [ 1.00000e+00  1.00000e+00]\n",
      " [ 1.30000e+01  0.00000e+00]\n",
      " [ 0.00000e+00  0.00000e+00]\n",
      " [ 1.00000e+00  1.00000e+00]\n",
      " [ 0.00000e+00  0.00000e+00]\n",
      " [ 1.00000e+00  1.00000e+00]\n",
      " [ 0.00000e+00  1.00000e+00]\n",
      " [ 1.00000e+00  0.00000e+00]\n",
      " [ 1.00000e+00  1.00000e+00]\n",
      " [ 1.00000e+00  1.00000e+00]\n",
      " [ 1.00000e+00  1.00000e+00]\n",
      " [ 1.00000e+00  1.00000e+00]\n",
      " [ 0.00000e+00  0.00000e+00]\n",
      " [ 1.00000e+00  1.00000e+00]\n",
      " [ 0.00000e+00  1.00000e+00]\n",
      " [ 0.00000e+00  0.00000e+00]\n",
      " [ 0.00000e+00  0.00000e+00]\n",
      " [ 0.00000e+00  0.00000e+00]\n",
      " [ 0.00000e+00  0.00000e+00]\n",
      " [-0.00000e+00  0.00000e+00]\n",
      " [ 0.00000e+00  0.00000e+00]\n",
      " [ 0.00000e+00  1.00000e+00]\n",
      " [ 0.00000e+00  0.00000e+00]\n",
      " [ 0.00000e+00  0.00000e+00]\n",
      " [ 1.00000e+00  0.00000e+00]\n",
      " [ 0.00000e+00  0.00000e+00]\n",
      " [ 0.00000e+00  0.00000e+00]\n",
      " [ 1.00000e+00  0.00000e+00]\n",
      " [ 0.00000e+00  0.00000e+00]\n",
      " [ 0.00000e+00  0.00000e+00]\n",
      " [-0.00000e+00  0.00000e+00]\n",
      " [ 0.00000e+00  0.00000e+00]\n",
      " [-0.00000e+00  0.00000e+00]\n",
      " [ 0.00000e+00  0.00000e+00]\n",
      " [ 0.00000e+00  0.00000e+00]\n",
      " [ 2.42361e+05  1.00000e+00]\n",
      " [ 0.00000e+00  0.00000e+00]\n",
      " [ 1.00000e+00  0.00000e+00]\n",
      " [ 1.00000e+00  1.00000e+00]\n",
      " [ 1.00000e+00  0.00000e+00]\n",
      " [ 0.00000e+00  0.00000e+00]\n",
      " [ 1.00000e+00  1.00000e+00]\n",
      " [ 1.00000e+00  1.00000e+00]\n",
      " [ 0.00000e+00  0.00000e+00]\n",
      " [ 0.00000e+00  0.00000e+00]\n",
      " [ 1.00000e+00  1.00000e+00]\n",
      " [ 0.00000e+00  0.00000e+00]\n",
      " [ 0.00000e+00  0.00000e+00]\n",
      " [ 1.00000e+00  1.00000e+00]\n",
      " [ 0.00000e+00  0.00000e+00]\n",
      " [ 3.00000e+00  0.00000e+00]\n",
      " [-0.00000e+00  1.00000e+00]\n",
      " [ 1.00000e+00  0.00000e+00]\n",
      " [ 1.00000e+00  1.00000e+00]\n",
      " [ 0.00000e+00  0.00000e+00]\n",
      " [ 0.00000e+00  1.00000e+00]\n",
      " [ 1.00000e+00  1.00000e+00]\n",
      " [ 0.00000e+00  1.00000e+00]\n",
      " [ 1.00000e+00  0.00000e+00]\n",
      " [ 0.00000e+00  0.00000e+00]\n",
      " [ 0.00000e+00  0.00000e+00]\n",
      " [ 0.00000e+00  0.00000e+00]\n",
      " [ 0.00000e+00  0.00000e+00]\n",
      " [ 0.00000e+00  0.00000e+00]\n",
      " [ 0.00000e+00  0.00000e+00]\n",
      " [ 1.00000e+00  1.00000e+00]\n",
      " [ 0.00000e+00  0.00000e+00]\n",
      " [ 0.00000e+00  0.00000e+00]\n",
      " [ 0.00000e+00  1.00000e+00]\n",
      " [ 0.00000e+00  0.00000e+00]\n",
      " [ 1.00000e+00  1.00000e+00]\n",
      " [ 0.00000e+00  0.00000e+00]\n",
      " [ 0.00000e+00  0.00000e+00]\n",
      " [ 1.00000e+00  0.00000e+00]\n",
      " [ 0.00000e+00  0.00000e+00]\n",
      " [-2.00000e+00  0.00000e+00]\n",
      " [ 0.00000e+00  0.00000e+00]\n",
      " [ 0.00000e+00  0.00000e+00]\n",
      " [ 0.00000e+00  0.00000e+00]\n",
      " [ 0.00000e+00  0.00000e+00]\n",
      " [ 1.00000e+00  1.00000e+00]\n",
      " [ 0.00000e+00  0.00000e+00]\n",
      " [ 0.00000e+00  0.00000e+00]\n",
      " [ 1.00000e+00  1.00000e+00]\n",
      " [ 1.00000e+00  0.00000e+00]\n",
      " [ 1.00000e+00  0.00000e+00]\n",
      " [ 0.00000e+00  1.00000e+00]\n",
      " [ 1.00000e+00  1.00000e+00]\n",
      " [ 0.00000e+00  0.00000e+00]\n",
      " [ 1.00000e+00  0.00000e+00]\n",
      " [ 0.00000e+00  0.00000e+00]\n",
      " [ 1.00000e+00  1.00000e+00]\n",
      " [ 0.00000e+00  1.00000e+00]\n",
      " [ 0.00000e+00  0.00000e+00]\n",
      " [ 0.00000e+00  1.00000e+00]\n",
      " [ 0.00000e+00  0.00000e+00]\n",
      " [ 0.00000e+00  0.00000e+00]\n",
      " [ 1.00000e+00  1.00000e+00]\n",
      " [ 0.00000e+00  1.00000e+00]\n",
      " [ 0.00000e+00  0.00000e+00]\n",
      " [ 0.00000e+00  0.00000e+00]\n",
      " [ 0.00000e+00  0.00000e+00]\n",
      " [ 1.00000e+00  1.00000e+00]\n",
      " [ 0.00000e+00  0.00000e+00]\n",
      " [ 0.00000e+00  0.00000e+00]\n",
      " [-0.00000e+00  1.00000e+00]\n",
      " [ 0.00000e+00  0.00000e+00]\n",
      " [-0.00000e+00  0.00000e+00]\n",
      " [ 0.00000e+00  0.00000e+00]\n",
      " [ 0.00000e+00  0.00000e+00]\n",
      " [ 0.00000e+00  0.00000e+00]\n",
      " [ 0.00000e+00  1.00000e+00]\n",
      " [-2.00000e+00  0.00000e+00]\n",
      " [ 1.00000e+00  1.00000e+00]\n",
      " [ 0.00000e+00  0.00000e+00]\n",
      " [ 3.16000e+03  1.00000e+00]\n",
      " [ 1.00000e+00  1.00000e+00]]\n"
     ]
    }
   ],
   "source": [
    "y_pred = np.round_(regressor.predict(x_test))\n",
    "print(np.concatenate((y_pred.reshape(len(y_pred), 1), y_test.reshape(len(y_test), 1)), 1))"
   ]
  },
  {
   "cell_type": "markdown",
   "metadata": {
    "id": "3s6dewUk0Iof"
   },
   "source": [
    "## Accuracy score"
   ]
  },
  {
   "cell_type": "code",
   "execution_count": 19,
   "metadata": {
    "colab": {
     "base_uri": "https://localhost:8080/"
    },
    "id": "Mz1GNVYxcu0o",
    "outputId": "854f5398-4ece-4d1c-a715-5253a6fbb267"
   },
   "outputs": [
    {
     "data": {
      "text/plain": [
       "0.7533632286995515"
      ]
     },
     "execution_count": 19,
     "metadata": {},
     "output_type": "execute_result"
    }
   ],
   "source": [
    "from sklearn.metrics import accuracy_score\n",
    "accuracy_score(y_test, y_pred)"
   ]
  },
  {
   "cell_type": "code",
   "execution_count": null,
   "metadata": {},
   "outputs": [],
   "source": []
  }
 ],
 "metadata": {
  "colab": {
   "collapsed_sections": [],
   "name": "titanic_polynomial_linear.ipynb",
   "provenance": []
  },
  "kernelspec": {
   "display_name": "Python 3 (ipykernel)",
   "language": "python",
   "name": "python3"
  },
  "language_info": {
   "codemirror_mode": {
    "name": "ipython",
    "version": 3
   },
   "file_extension": ".py",
   "mimetype": "text/x-python",
   "name": "python",
   "nbconvert_exporter": "python",
   "pygments_lexer": "ipython3",
   "version": "3.9.7"
  }
 },
 "nbformat": 4,
 "nbformat_minor": 4
}
